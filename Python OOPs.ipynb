{
 "cells": [
  {
   "cell_type": "markdown",
   "id": "6d66bc7c",
   "metadata": {},
   "source": [
    "# Python OOPs \n",
    "\n",
    "An object-oriented paradigm is to design the program using classes and objects. The object is related to real-word entities such as book, house, pencil, etc.\n",
    "<br><br>\n",
    "### Major principles of object-oriented programming system are given below.\n",
    "<br>\n",
    "1.Class <br>\n",
    "2.Object<br>\n",
    "3.Method<br>\n",
    "4.Inheritance<br>\n",
    "5.Polymorphism<br>\n",
    "6.Data Abstraction<br>\n",
    "7.Encapsulation\n",
    "<br>\n",
    "<br>\n",
    "\n",
    "# Class \n",
    "<br>\n",
    "The class can be defined as a collection of objects. It is a logical entity that has some specific attributes and methods. For example: if you have an employee class, then it should contain an attribute and method, i.e. an email id, name, age, salary, etc."
   ]
  },
  {
   "cell_type": "code",
   "execution_count": 63,
   "id": "92a516af",
   "metadata": {},
   "outputs": [],
   "source": [
    "class Employee:\n",
    "    def name(self):\n",
    "        name=input('what is your name :')\n",
    "        print('My Name is ',name)\n",
    "    def email_id(self):\n",
    "        email=input('what is you email id : ')\n",
    "        print('Email ID : ',email)\n",
    "    def age(self):\n",
    "        print(' Age : ',input('what is your age : '))\n",
    "    def CTC(self):\n",
    "        salary= int(input('Total working day : '))*570\n",
    "        print('your total cost is : ',salary)"
   ]
  },
  {
   "cell_type": "code",
   "execution_count": 61,
   "id": "76ede82d",
   "metadata": {},
   "outputs": [
    {
     "name": "stdout",
     "output_type": "stream",
     "text": [
      "what is your name :Priyanshu Alawa\n",
      "My Name is  Priyanshu Alawa\n",
      "None\n",
      "what is you email id : alawa3282@gmail.com\n",
      "Email ID :  alawa3282@gmail.com\n",
      "None\n",
      "what is your age : 22\n",
      " Age :  22\n",
      "None\n",
      "Total working day : 26\n",
      "your total cost is :  14820\n",
      "None\n"
     ]
    }
   ],
   "source": [
    "e=Employee()\n",
    "print(e.name())\n",
    "print(e.email_id())\n",
    "print(e.age())\n",
    "print(e.CTC())"
   ]
  },
  {
   "cell_type": "markdown",
   "id": "37b1640f",
   "metadata": {},
   "source": [
    "# Object\n",
    "\n",
    "The object is an entity that has state and behavior. It may be any real-world object like the mouse, keyboard, chair, table, pen, etc."
   ]
  },
  {
   "cell_type": "code",
   "execution_count": 15,
   "id": "c892da73",
   "metadata": {},
   "outputs": [],
   "source": [
    "# we have created the class named car, \n",
    "class car:  \n",
    "    def __init__(self,modelname, year):  # and it has two attributes modelname and year. \n",
    "        self.modelname = modelname  \n",
    "        self.year = year  \n",
    "    def display(self):\n",
    "        print('name of model : ',self.modelname)\n",
    "        print('year :',self.year)"
   ]
  },
  {
   "cell_type": "code",
   "execution_count": 16,
   "id": "c7a087a4",
   "metadata": {},
   "outputs": [
    {
     "name": "stdout",
     "output_type": "stream",
     "text": [
      "name of model :  Toyota\n",
      "year : 2016\n"
     ]
    }
   ],
   "source": [
    "c1 = car(\"Toyota\", 2016)     # We have created a c1 object to access the class attribute.\n",
    "c1.display()                  # The c1 object will allocate memory for these values."
   ]
  },
  {
   "cell_type": "markdown",
   "id": "9adbee3b",
   "metadata": {},
   "source": [
    "# Method\n",
    "The method is a function that is associated with an object. In Python, a method is not unique to class instances. Any object type can have methods."
   ]
  },
  {
   "cell_type": "markdown",
   "id": "2a455cdc",
   "metadata": {},
   "source": [
    "# Inderitance\n",
    "Inheritance is the most important aspect of object-oriented programming,<br> \n",
    "which simulates the real-world concept of inheritance. <br>\n",
    "It specifies that the child object acquires all the properties and behaviors of the parent object.\n",
    "<br><br>\n",
    "By using inheritance, we can create a class which uses all the properties and behavior of another class. <br>\n",
    "The new class is known as a derived class or child class, <br>\n",
    "and the one whose properties are acquired is known as a base class or parent class.\n",
    "<br><br>\n",
    "It provides the re-usability of the code."
   ]
  },
  {
   "cell_type": "markdown",
   "id": "b16aed28",
   "metadata": {},
   "source": [
    "# Polymorphism\n",
    "Polymorphism contains two words \"poly\" and \"morphs\". Poly means many, and morph means shape. By polymorphism, we understand that one task can be performed in different ways. \n",
    "<br>\n",
    "<br>\n",
    "For example -<br>\n",
    "        you have a class animal, and all animals speak. But they speak differently. Here, the \"speak\" behavior is polymorphic in a sense and depends on the animal. So, the abstract \"animal\" concept does not actually \"speak\", but specific animals (like dogs and cats) have a concrete implementation of the action \"speak\".\n",
    "\n"
   ]
  },
  {
   "cell_type": "markdown",
   "id": "e794f0bd",
   "metadata": {},
   "source": [
    "# Encapsulation\n",
    "Encapsulation is also an essential aspect of object-oriented programming. <br>\n",
    "It is used to restrict access to methods and variables. <br>\n",
    "In encapsulation, code and data are wrapped together within a single unit from being modified by accident.\n"
   ]
  },
  {
   "cell_type": "markdown",
   "id": "ae983b61",
   "metadata": {},
   "source": [
    "# Data abstraction\n",
    "Data abstraction and encapsulation both are often used as synonyms. <br>\n",
    "Both are nearly synonyms because data abstraction is achieved through encapsulation.<br>\n",
    "<br><br>\n",
    "Abstraction is used to hide internal details and show only functionalities. \n",
    "<br>Abstracting something means to give names to things so that the name captures the core of what a function or a whole program does."
   ]
  },
  {
   "cell_type": "markdown",
   "id": "0b2fe78d",
   "metadata": {},
   "source": [
    "===============================================\n",
    "-------------------------------------------------------------------------------"
   ]
  },
  {
   "cell_type": "markdown",
   "id": "79d93cfe",
   "metadata": {},
   "source": [
    "# Creating classes in Python\n",
    "In Python, a class can be created by using the keyword class, followed by the class name."
   ]
  },
  {
   "cell_type": "code",
   "execution_count": 18,
   "id": "e303d994",
   "metadata": {},
   "outputs": [],
   "source": [
    "class ClassName:    \n",
    "    #statement_suite \n",
    "    def name(self):\n",
    "        print('this is base class')"
   ]
  },
  {
   "cell_type": "code",
   "execution_count": 19,
   "id": "bc0ce997",
   "metadata": {},
   "outputs": [],
   "source": [
    "class Employee:    \n",
    "    id = 10   \n",
    "    name = \"Priyanshu Alawa\"    \n",
    "    def display (self):    \n",
    "        print(self.id,self.name)  "
   ]
  },
  {
   "cell_type": "markdown",
   "id": "4045a036",
   "metadata": {},
   "source": [
    "# The self-parameter\n",
    "The self-parameter refers to the current instance of the class and accesses the class variables. We can use anything instead of self, but it must be the first parameter of any function which belongs to the class."
   ]
  },
  {
   "cell_type": "code",
   "execution_count": 38,
   "id": "88fc42dd",
   "metadata": {},
   "outputs": [],
   "source": [
    "class Employee:    \n",
    "    id = 10   \n",
    "    name = \"Priyanshu\"  \n",
    "    salary= 4500000\n",
    "    def display (self):    \n",
    "        print(\"ID: %d \\nName: %s \\nsalary: %d \"%(self.id,self.name,self.salary))   "
   ]
  },
  {
   "cell_type": "code",
   "execution_count": 39,
   "id": "8cb1f79f",
   "metadata": {},
   "outputs": [
    {
     "name": "stdout",
     "output_type": "stream",
     "text": [
      "ID: 10 \n",
      "Name: Priyanshu \n",
      "salary: 4500000 \n"
     ]
    }
   ],
   "source": [
    "# Creating a emp instance of Employee class  \n",
    "emp = Employee()    \n",
    "emp.display() "
   ]
  },
  {
   "cell_type": "markdown",
   "id": "85a5aa7a",
   "metadata": {},
   "source": [
    "# # Create a class with constructor"
   ]
  },
  {
   "cell_type": "code",
   "execution_count": 64,
   "id": "1641e958",
   "metadata": {},
   "outputs": [],
   "source": [
    "## Base class or Super class\n",
    "class Vehicle: \n",
    "    # consturctor\n",
    "    def __init__(self,mileage,cost):\n",
    "        self.mileage=mileage\n",
    "        self.cost=cost\n",
    "    # method\n",
    "    def show_vehicle_details(self):\n",
    "        print(\" Mileage of vehicle is \",self.mileage)\n",
    "        print(\"cost of vehicle is \",self.cost)\n",
    "        print(\" I am a Vehicle\")"
   ]
  },
  {
   "cell_type": "markdown",
   "id": "9b8aa42c",
   "metadata": {},
   "source": [
    "## Instantiating the OBJECT for basic class"
   ]
  },
  {
   "cell_type": "code",
   "execution_count": 65,
   "id": "e4712679",
   "metadata": {},
   "outputs": [
    {
     "name": "stdout",
     "output_type": "stream",
     "text": [
      " Mileage of vehicle is  3450\n",
      "cost of vehicle is  54324\n",
      " I am a Vehicle\n"
     ]
    }
   ],
   "source": [
    "v1=Vehicle(3450,54324)\n",
    "v1.show_vehicle_details()"
   ]
  },
  {
   "cell_type": "markdown",
   "id": "86d08200",
   "metadata": {},
   "source": [
    "## Creating a child class"
   ]
  },
  {
   "cell_type": "code",
   "execution_count": 66,
   "id": "23316850",
   "metadata": {},
   "outputs": [],
   "source": [
    "class Car(Vehicle):\n",
    "    def show_car(self):\n",
    "        print(' I am a little car')"
   ]
  },
  {
   "cell_type": "markdown",
   "id": "78c80b26",
   "metadata": {},
   "source": [
    "## Instantiating the object for child class"
   ]
  },
  {
   "cell_type": "code",
   "execution_count": 67,
   "id": "3f7c3e6c",
   "metadata": {},
   "outputs": [
    {
     "name": "stdout",
     "output_type": "stream",
     "text": [
      " Mileage of vehicle is  4332\n",
      "cost of vehicle is  65443\n",
      " I am a Vehicle\n"
     ]
    }
   ],
   "source": [
    "c1=Car(4332,65443)\n",
    "c1.show_vehicle_details()"
   ]
  },
  {
   "cell_type": "markdown",
   "id": "ffe57137",
   "metadata": {},
   "source": [
    "## Invoking the child class method"
   ]
  },
  {
   "cell_type": "code",
   "execution_count": 68,
   "id": "1c6b6c27",
   "metadata": {},
   "outputs": [
    {
     "name": "stdout",
     "output_type": "stream",
     "text": [
      " I am a little car\n"
     ]
    }
   ],
   "source": [
    "c1.show_car()"
   ]
  },
  {
   "cell_type": "markdown",
   "id": "34a54f68",
   "metadata": {},
   "source": [
    "=================================================================================="
   ]
  },
  {
   "cell_type": "markdown",
   "id": "70103867",
   "metadata": {},
   "source": [
    "# this class for DATA PREPROCCESSING"
   ]
  },
  {
   "cell_type": "code",
   "execution_count": 69,
   "id": "ed218de6",
   "metadata": {},
   "outputs": [],
   "source": [
    "class Data_Preproccessing:\n",
    "    def read_file(self):\n",
    "        import pandas as pd\n",
    "        return pd.read_csv(f\"{input('Enter your CSV dataset address : ')}\")\n",
    "    def shape(self):\n",
    "        import pandas as pd\n",
    "        df=pd.read_csv(f\"{input('Enter your CSV dataset address : ')}\")\n",
    "        return df.shape\n",
    "    def describe(self):\n",
    "        import pandas as pd\n",
    "        df=pd.read_csv(f\"{input('Enter your CSV dataset address : ')}\")\n",
    "        return df.describe()\n",
    "    def null_value(self):\n",
    "        import pandas as pd\n",
    "        df=pd.read_csv(f\"{input('Enter your CSV dataset address : ')}\")\n",
    "        return df.isnull().sum()\n",
    "    \n",
    "    \n",
    "    \n",
    "# dataset=  \n",
    "p=Data_Preproccessing()\n",
    "# 1.read_file()\n",
    "# 2.check_shape()\n",
    "# 3.check_null_vlaue()"
   ]
  },
  {
   "cell_type": "code",
   "execution_count": null,
   "id": "f691d2fb",
   "metadata": {},
   "outputs": [],
   "source": []
  }
 ],
 "metadata": {
  "kernelspec": {
   "display_name": "Python 3 (ipykernel)",
   "language": "python",
   "name": "python3"
  },
  "language_info": {
   "codemirror_mode": {
    "name": "ipython",
    "version": 3
   },
   "file_extension": ".py",
   "mimetype": "text/x-python",
   "name": "python",
   "nbconvert_exporter": "python",
   "pygments_lexer": "ipython3",
   "version": "3.10.4"
  }
 },
 "nbformat": 4,
 "nbformat_minor": 5
}
